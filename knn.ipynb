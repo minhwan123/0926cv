{
 "cells": [
  {
   "cell_type": "code",
   "execution_count": 1,
   "id": "5b660195",
   "metadata": {},
   "outputs": [
    {
     "name": "stdout",
     "output_type": "stream",
     "text": [
      "Note: you may need to restart the kernel to use updated packages.\n"
     ]
    },
    {
     "name": "stderr",
     "output_type": "stream",
     "text": [
      "WARNING: Ignoring invalid distribution ~ensorflow (c:\\Users\\82106\\anaconda3\\Lib\\site-packages)\n",
      "WARNING: Ignoring invalid distribution ~orch (c:\\Users\\82106\\anaconda3\\Lib\\site-packages)\n",
      "WARNING: Ignoring invalid distribution ~ensorflow (c:\\Users\\82106\\anaconda3\\Lib\\site-packages)\n",
      "WARNING: Ignoring invalid distribution ~orch (c:\\Users\\82106\\anaconda3\\Lib\\site-packages)\n",
      "WARNING: Ignoring invalid distribution ~ensorflow (c:\\Users\\82106\\anaconda3\\Lib\\site-packages)\n",
      "WARNING: Ignoring invalid distribution ~orch (c:\\Users\\82106\\anaconda3\\Lib\\site-packages)\n"
     ]
    }
   ],
   "source": [
    "pip -q install numpy pandas scikit-learn opencv-python tqdm"
   ]
  },
  {
   "cell_type": "code",
   "execution_count": 2,
   "id": "42e02cbd",
   "metadata": {},
   "outputs": [
    {
     "name": "stdout",
     "output_type": "stream",
     "text": [
      "[INFO] 전체 훈련 데이터 50,000장을 로딩합니다...\n"
     ]
    },
    {
     "name": "stderr",
     "output_type": "stream",
     "text": [
      "100%|██████████| 50000/50000 [10:43<00:00, 77.70it/s] \n"
     ]
    },
    {
     "name": "stdout",
     "output_type": "stream",
     "text": [
      "[INFO] 데이터 로딩 완료. X: (50000, 3072), y: (50000,)\n",
      "\n",
      "[INFO] GridSearchCV를 사용하여 5-fold 교차 검증을 시작합니다...\n",
      "Fitting 5 folds for each of 8 candidates, totalling 40 fits\n",
      "[CV 1/5] END ................knn__n_neighbors=1;, score=0.444 total time=  20.7s\n",
      "[CV 2/5] END ................knn__n_neighbors=1;, score=0.426 total time=  19.3s\n",
      "[CV 3/5] END ................knn__n_neighbors=1;, score=0.436 total time=  17.8s\n",
      "[CV 4/5] END ................knn__n_neighbors=1;, score=0.437 total time=  17.7s\n",
      "[CV 5/5] END ................knn__n_neighbors=1;, score=0.430 total time=  18.7s\n",
      "[CV 1/5] END ................knn__n_neighbors=3;, score=0.432 total time=  18.5s\n",
      "[CV 2/5] END ................knn__n_neighbors=3;, score=0.411 total time=  18.5s\n",
      "[CV 3/5] END ................knn__n_neighbors=3;, score=0.424 total time=  19.7s\n",
      "[CV 4/5] END ................knn__n_neighbors=3;, score=0.424 total time=  18.7s\n",
      "[CV 5/5] END ................knn__n_neighbors=3;, score=0.418 total time=  20.0s\n",
      "[CV 1/5] END ................knn__n_neighbors=5;, score=0.463 total time=  23.7s\n",
      "[CV 2/5] END ................knn__n_neighbors=5;, score=0.446 total time=  24.8s\n",
      "[CV 3/5] END ................knn__n_neighbors=5;, score=0.457 total time=  24.2s\n",
      "[CV 4/5] END ................knn__n_neighbors=5;, score=0.463 total time=  22.5s\n",
      "[CV 5/5] END ................knn__n_neighbors=5;, score=0.453 total time=  25.1s\n",
      "[CV 1/5] END ................knn__n_neighbors=7;, score=0.475 total time=  25.2s\n",
      "[CV 2/5] END ................knn__n_neighbors=7;, score=0.461 total time=  25.3s\n",
      "[CV 3/5] END ................knn__n_neighbors=7;, score=0.466 total time=  24.1s\n",
      "[CV 4/5] END ................knn__n_neighbors=7;, score=0.474 total time=  23.7s\n",
      "[CV 5/5] END ................knn__n_neighbors=7;, score=0.470 total time=  24.8s\n",
      "[CV 1/5] END ................knn__n_neighbors=9;, score=0.487 total time=  23.5s\n",
      "[CV 2/5] END ................knn__n_neighbors=9;, score=0.473 total time=  24.2s\n",
      "[CV 3/5] END ................knn__n_neighbors=9;, score=0.483 total time=  24.4s\n",
      "[CV 4/5] END ................knn__n_neighbors=9;, score=0.484 total time=  23.3s\n",
      "[CV 5/5] END ................knn__n_neighbors=9;, score=0.479 total time=  23.1s\n",
      "[CV 1/5] END ...............knn__n_neighbors=11;, score=0.496 total time=  24.2s\n",
      "[CV 2/5] END ...............knn__n_neighbors=11;, score=0.481 total time=  25.2s\n",
      "[CV 3/5] END ...............knn__n_neighbors=11;, score=0.491 total time=  24.5s\n",
      "[CV 4/5] END ...............knn__n_neighbors=11;, score=0.493 total time=  23.5s\n",
      "[CV 5/5] END ...............knn__n_neighbors=11;, score=0.487 total time=  23.8s\n",
      "[CV 1/5] END ...............knn__n_neighbors=13;, score=0.504 total time=  24.1s\n",
      "[CV 2/5] END ...............knn__n_neighbors=13;, score=0.486 total time=  25.4s\n",
      "[CV 3/5] END ...............knn__n_neighbors=13;, score=0.496 total time=  25.2s\n",
      "[CV 4/5] END ...............knn__n_neighbors=13;, score=0.501 total time=  22.7s\n",
      "[CV 5/5] END ...............knn__n_neighbors=13;, score=0.494 total time=  24.2s\n",
      "[CV 1/5] END ...............knn__n_neighbors=15;, score=0.514 total time=  22.6s\n",
      "[CV 2/5] END ...............knn__n_neighbors=15;, score=0.495 total time=  23.4s\n",
      "[CV 3/5] END ...............knn__n_neighbors=15;, score=0.502 total time=  25.1s\n",
      "[CV 4/5] END ...............knn__n_neighbors=15;, score=0.502 total time=  22.8s\n",
      "[CV 5/5] END ...............knn__n_neighbors=15;, score=0.498 total time=  22.7s\n",
      "\n",
      "[INFO] 교차 검증 완료!\n",
      "최적의 K값: 15\n",
      "해당 K값에서의 평균 교차 검증 정확도: 0.5023\n",
      "\n",
      "[INFO] 최적 모델을 'best_knn_model_cv.pkl' 파일로 저장했습니다.\n"
     ]
    }
   ],
   "source": [
    "import os, cv2, random, joblib\n",
    "import numpy as np\n",
    "import pandas as pd\n",
    "from tqdm import tqdm\n",
    "import matplotlib.pyplot as plt\n",
    "\n",
    "from sklearn.model_selection import GridSearchCV\n",
    "from sklearn.preprocessing import StandardScaler\n",
    "from sklearn.decomposition import PCA\n",
    "from sklearn.pipeline import Pipeline\n",
    "from sklearn.neighbors import KNeighborsClassifier\n",
    "from sklearn.metrics import classification_report\n",
    "\n",
    "# ===== 1. 경로 설정 및 데이터 로딩 함수 정의 =====\n",
    "TRAIN_IMG_PATH = r\"C:/Users/82106/downloads/cifar-10/train/train\"\n",
    "TRAIN_LABELS   = r\"C:/Users/82106/downloads/cifar-10/trainLabels.csv\"\n",
    "RANDOM_SEED    = 42\n",
    "random.seed(RANDOM_SEED)\n",
    "np.random.seed(RANDOM_SEED)\n",
    "\n",
    "def read_flatten(path):\n",
    "    \"\"\"이미지 경로를 받아 전처리 후 1차원 벡터로 반환하는 함수\"\"\"\n",
    "    img = cv2.imread(path)\n",
    "    if img is None:\n",
    "        return None\n",
    "    # 픽셀 값을 0~1 사이로 정규화하고 1차원으로 펼칩니다.\n",
    "    return (img.astype(np.float32) / 255.0).flatten()\n",
    "\n",
    "# ===== 2. 전체 훈련(Train) 데이터 로드 (50,000장) =====\n",
    "labels_df = pd.read_csv(TRAIN_LABELS)\n",
    "labels_df['id'] = pd.to_numeric(labels_df['id'], errors='coerce').astype('int')\n",
    "\n",
    "X, y = [], []\n",
    "print(f\"[INFO] 전체 훈련 데이터 {len(labels_df):,}장을 로딩합니다...\")\n",
    "for img_id, label in tqdm(labels_df[['id', 'label']].itertuples(index=False), total=len(labels_df)):\n",
    "    v = read_flatten(os.path.join(TRAIN_IMG_PATH, f\"{img_id}.png\"))\n",
    "    if v is None:\n",
    "        continue\n",
    "    X.append(v)\n",
    "    y.append(label)\n",
    "\n",
    "X = np.array(X, dtype=np.float32)\n",
    "y = np.array(y)\n",
    "print(f\"[INFO] 데이터 로딩 완료. X: {X.shape}, y: {y.shape}\")\n",
    "\n",
    "\n",
    "# ===== 3. 교차 검증을 위한 파이프라인 및 파라미터 그리드 설정 =====\n",
    "# PCA=256, metric='cosine'을 고정값으로 사용\n",
    "# k값의 변화에 따른 성능 측정에 집중\n",
    "pipeline = Pipeline([\n",
    "    (\"scaler\", StandardScaler()),\n",
    "    (\"pca\", PCA(n_components=256, whiten=True, random_state=RANDOM_SEED)),\n",
    "    (\"knn\", KNeighborsClassifier(metric='cosine', n_jobs=-1))\n",
    "])\n",
    "\n",
    "# 탐색할 k값의 범위를 지정\n",
    "k_vals = [1, 3, 5, 7, 9, 11, 13, 15]\n",
    "param_grid = {\n",
    "    'knn__n_neighbors': k_vals\n",
    "}\n",
    "\n",
    "# ===== 4. GridSearchCV를 이용한 5-Fold 교차 검증 수행 =====\n",
    "# GridSearchCV가 전체 데이터(X, y)를 알아서 5-fold로 나누어 학습/검증을 반복\n",
    "print(\"\\n[INFO] GridSearchCV를 사용하여 5-fold 교차 검증을 시작합니다...\")\n",
    "grid_search = GridSearchCV(\n",
    "    estimator=pipeline,\n",
    "    param_grid=param_grid,\n",
    "    cv=5,                     # 5-fold 교차 검증\n",
    "    scoring='accuracy',       # 평가지표는 우선 '정확도'로 설정\n",
    "    verbose=3,                \n",
    "    n_jobs=1                  \n",
    ")\n",
    "grid_search.fit(X, y)\n",
    "\n",
    "# ===== 5. 교차 검증 결과 요약 =====\n",
    "print(\"\\n[INFO] 교차 검증 완료!\")\n",
    "print(f\"최적의 K값: {grid_search.best_params_['knn__n_neighbors']}\")\n",
    "print(f\"해당 K값에서의 평균 교차 검증 정확도: {grid_search.best_score_:.4f}\")\n",
    "\n",
    "# 최적의 모델(파이프라인)을 저장\n",
    "best_model = grid_search.best_estimator_\n",
    "joblib.dump(best_model, \"best_knn_model_cv.pkl\")\n",
    "print(\"\\n[INFO] 최적 모델을 'best_knn_model_cv.pkl' 파일로 저장했습니다.\")\n",
    "\n",
    "# 다음 셀에서 시각화 및 상세 리포트를 위해 grid_search 객체를 계속 사용\n"
   ]
  },
  {
   "cell_type": "code",
   "execution_count": 3,
   "id": "4954dd3f",
   "metadata": {},
   "outputs": [
    {
     "name": "stdout",
     "output_type": "stream",
     "text": [
      "[INFO] K값에 따른 교차 검증 정확도 시각화를 시작합니다...\n"
     ]
    },
    {
     "data": {
      "image/png": "[encoded data removed]",
      "text/plain": [
       "<Figure size 1000x600 with 1 Axes>"
      ]
     },
     "metadata": {},
     "output_type": "display_data"
    },
    {
     "name": "stdout",
     "output_type": "stream",
     "text": [
      "\n",
      "[INFO] 최적 모델의 상세 평가지표(Precision, Recall, F1-score)를 계산합니다...\n",
      "              precision    recall  f1-score   support\n",
      "\n",
      "    airplane       0.45      0.68      0.54      5000\n",
      "  automobile       0.58      0.64      0.61      5000\n",
      "        bird       0.38      0.50      0.43      5000\n",
      "         cat       0.35      0.33      0.34      5000\n",
      "        deer       0.46      0.41      0.44      5000\n",
      "         dog       0.45      0.38      0.41      5000\n",
      "        frog       0.62      0.46      0.53      5000\n",
      "       horse       0.64      0.56      0.59      5000\n",
      "        ship       0.56      0.70      0.62      5000\n",
      "       truck       0.70      0.36      0.47      5000\n",
      "\n",
      "    accuracy                           0.50     50000\n",
      "   macro avg       0.52      0.50      0.50     50000\n",
      "weighted avg       0.52      0.50      0.50     50000\n",
      "\n",
      "\n",
      "[INFO] 저장된 최적 모델을 불러와 전체 테스트 데이터 예측을 시작합니다...\n",
      "[주의] 30만장 전체를 예측하므로 매우 오랜 시간이 소요될 수 있습니다.\n",
      "[INFO] 전체 테스트 이미지 300,000장을 로딩합니다...\n"
     ]
    },
    {
     "name": "stderr",
     "output_type": "stream",
     "text": [
      "100%|██████████| 300000/300000 [1:03:26<00:00, 78.81it/s] \n"
     ]
    },
    {
     "name": "stdout",
     "output_type": "stream",
     "text": [
      "[INFO] 최종 모델로 전체 30만장 예측을 수행합니다...\n",
      "\n",
      "[INFO] 'submission_cv_300k.csv' 파일 저장이 완료되었습니다.\n",
      "   id     label\n",
      "0   1      ship\n",
      "1   2  airplane\n",
      "2   3     truck\n",
      "3   4  airplane\n",
      "4   5  airplane\n"
     ]
    }
   ],
   "source": [
    "import os, cv2, random, joblib\n",
    "import numpy as np\n",
    "import pandas as pd\n",
    "from tqdm import tqdm\n",
    "import matplotlib.pyplot as plt\n",
    "from sklearn.metrics import classification_report\n",
    "from sklearn.model_selection import cross_val_predict\n",
    "\n",
    "# ===== 6. K값에 따른 교차 검증 성능 시각화 =====\n",
    "print(\"[INFO] K값에 따른 교차 검증 정확도 시각화를 시작합니다...\")\n",
    "k_vals_from_grid = grid_search.cv_results_['param_knn__n_neighbors'].data\n",
    "mean_scores = grid_search.cv_results_['mean_test_score']\n",
    "std_scores = grid_search.cv_results_['std_test_score']\n",
    "plt.figure(figsize=(10, 6))\n",
    "plt.errorbar(k_vals_from_grid, mean_scores, yerr=std_scores, fmt='-o', capsize=5, label='Mean Accuracy')\n",
    "plt.title('5-Fold CV Performance vs. Number of Neighbors (k)')\n",
    "plt.xlabel('Number of Neighbors (k)')\n",
    "plt.ylabel('Mean Accuracy')\n",
    "plt.xticks(k_vals_from_grid)\n",
    "plt.legend()\n",
    "plt.grid(True)\n",
    "plt.show()\n",
    "\n",
    "# ===== 7. 상세 평가지표 보고 =====\n",
    "print(\"\\n[INFO] 최적 모델의 상세 평가지표(Precision, Recall, F1-score)를 계산합니다...\")\n",
    "y_pred_cv = cross_val_predict(estimator=best_model, X=X, y=y, cv=5, n_jobs=1)\n",
    "class_names = ['airplane', 'automobile', 'bird', 'cat', 'deer', 'dog', 'frog', 'horse', 'ship', 'truck']\n",
    "report = classification_report(y, y_pred_cv, target_names=class_names)\n",
    "print(report)\n",
    "\n",
    "\n",
    "# ===== 8. 최종 Test 데이터 예측 및 제출 파일 생성 (전체 30만장) =====\n",
    "print(\"\\n[INFO] 저장된 최적 모델을 불러와 전체 테스트 데이터 예측을 시작합니다...\")\n",
    "print(\"[주의] 30만장 전체를 예측하므로 매우 오랜 시간이 소요될 수 있습니다.\")\n",
    "TEST_IMG_PATH = r\"C:/Users/82106/Downloads/cifar-10/test/test\"\n",
    "\n",
    "# 테스트 이미지 파일 목록 전체를 불러옵니다.\n",
    "test_files = [f for f in os.listdir(TEST_IMG_PATH) if f.lower().endswith(\".png\")]\n",
    "test_files = sorted(test_files, key=lambda x: int(os.path.splitext(x)[0]))\n",
    "\n",
    "# 전체 test_files 리스트를 사용\n",
    "X_test, test_ids = [], []\n",
    "print(f\"[INFO] 전체 테스트 이미지 {len(test_files):,}장을 로딩합니다...\")\n",
    "# [주의] 이 과정에서 약 3.7GB의 메모리가 필요. MemoryError가 발생할 수 있음 \n",
    "for f in tqdm(test_files):\n",
    "    iid = int(os.path.splitext(f)[0])\n",
    "    v = read_flatten(os.path.join(TEST_IMG_PATH, f))\n",
    "    if v is None: continue\n",
    "    X_test.append(v)\n",
    "    test_ids.append(iid)\n",
    "\n",
    "X_test = np.array(X_test, dtype=np.float32)\n",
    "\n",
    "loaded_model = joblib.load(\"best_knn_model_cv.pkl\")\n",
    "\n",
    "print(\"[INFO] 최종 모델로 전체 30만장 예측을 수행합니다...\")\n",
    "test_pred_labels = loaded_model.predict(X_test)\n",
    "\n",
    "submission = pd.DataFrame({\"id\": test_ids, \"label\": test_pred_labels}).sort_values(\"id\")\n",
    "submission.to_csv(\"submission_cv_300k.csv\", index=False)\n",
    "print(\"\\n[INFO] 'submission_cv_300k.csv' 파일 저장이 완료되었습니다.\")\n",
    "print(submission.head())\n"
   ]
  }
 ],
 "metadata": {
  "kernelspec": {
   "display_name": "base",
   "language": "python",
   "name": "python3"
  },
  "language_info": {
   "codemirror_mode": {
    "name": "ipython",
    "version": 3
   },
   "file_extension": ".py",
   "mimetype": "text/x-python",
   "name": "python",
   "nbconvert_exporter": "python",
   "pygments_lexer": "ipython3",
   "version": "3.12.3"
  }
 },
 "nbformat": 4,
 "nbformat_minor": 5
}
